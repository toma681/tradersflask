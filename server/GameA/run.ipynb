{
 "metadata": {
  "language_info": {
   "codemirror_mode": {
    "name": "ipython",
    "version": 3
   },
   "file_extension": ".py",
   "mimetype": "text/x-python",
   "name": "python",
   "nbconvert_exporter": "python",
   "pygments_lexer": "ipython3",
   "version": "3.8.3-final"
  },
  "orig_nbformat": 2,
  "kernelspec": {
   "name": "python3",
   "display_name": "Python 3.8.3 64-bit (conda)",
   "metadata": {
    "interpreter": {
     "hash": "b3ba2566441a7c06988d0923437866b63cedc61552a5af99d1f4fb67d367b25f"
    }
   }
  }
 },
 "nbformat": 4,
 "nbformat_minor": 2,
 "cells": [
  {
   "cell_type": "code",
   "execution_count": 1,
   "metadata": {},
   "outputs": [],
   "source": [
    "from game import Game\n",
    "from player import Player\n",
    "import numpy as np\n",
    "import pandas as pd"
   ]
  },
  {
   "cell_type": "code",
   "execution_count": 2,
   "metadata": {},
   "outputs": [],
   "source": [
    "def print_transactions(arr):\n",
    "    for i in range(3):\n",
    "        df = pd.DataFrame(data=arr[i], index=[\"Buyer \" + str(i) for i in range(5)], columns=[\"Seller \" + str(i) for i in range(5)])\n",
    "        display(df)\n",
    "\n",
    "\n",
    "def print_players_and_questions(arr):\n",
    "    arr = np.array(arr)\n",
    "    df = pd.DataFrame(data=arr.T, index=[\"Player \" + str(i) for i in range(5)], columns=[\"Q1\", \"Q2\", \"Q3\"])\n",
    "    display(df.round(1))"
   ]
  },
  {
   "cell_type": "code",
   "execution_count": 3,
   "metadata": {},
   "outputs": [],
   "source": [
    "g = Game([44, 87, 5])\n",
    "g.player_setup([\"A\", \"S\", \"D\", \"F\", \"G\"])"
   ]
  },
  {
   "cell_type": "code",
   "execution_count": 4,
   "metadata": {},
   "outputs": [
    {
     "output_type": "execute_result",
     "data": {
      "text/plain": [
       "True"
      ]
     },
     "metadata": {},
     "execution_count": 4
    }
   ],
   "source": [
    "g.players[0].assign_bids_and_asks([1, 145, 155, 1],     [1, 70, 75, 1],     [1, 9, 11, 1])\n",
    "g.players[1].assign_bids_and_asks([1, 95, 100, 1],      [1, 40, 50, 1],     [1, 12, 14, 1])\n",
    "g.players[2].assign_bids_and_asks([1, 15, 17, 1],       [1, 45, 50, 1],     [1, 20, 30, 1])\n",
    "g.players[3].assign_bids_and_asks([1, 95, 105, 1],      [1, 50, 55, 1],     [1, 8, 10, 1])\n",
    "g.players[4].assign_bids_and_asks([1, 50, 60, 1],       [1, 55, 60, 1],     [1, 3, 5, 1])"
   ]
  },
  {
   "cell_type": "code",
   "execution_count": 5,
   "metadata": {},
   "outputs": [
    {
     "output_type": "execute_result",
     "data": {
      "text/plain": [
       "True"
      ]
     },
     "metadata": {},
     "execution_count": 5
    }
   ],
   "source": [
    "g.play_round()"
   ]
  },
  {
   "cell_type": "code",
   "execution_count": 9,
   "metadata": {},
   "outputs": [
    {
     "output_type": "execute_result",
     "data": {
      "text/plain": [
       "array([[[ 0. ,  0. , 81. ,  0. ,  0. ],\n",
       "        [ 0. ,  0. ,  0. ,  0. ,  0. ],\n",
       "        [ 0. ,  0. ,  0. ,  0. ,  0. ],\n",
       "        [ 0. ,  0. ,  0. ,  0. , 77.5],\n",
       "        [ 0. ,  0. ,  0. ,  0. ,  0. ]],\n",
       "\n",
       "       [[ 0. , 60. ,  0. ,  0. ,  0. ],\n",
       "        [ 0. ,  0. ,  0. ,  0. ,  0. ],\n",
       "        [ 0. ,  0. ,  0. ,  0. ,  0. ],\n",
       "        [ 0. ,  0. ,  0. ,  0. ,  0. ],\n",
       "        [ 0. ,  0. , 52.5,  0. ,  0. ]],\n",
       "\n",
       "       [[ 0. ,  0. ,  0. ,  0. ,  0. ],\n",
       "        [ 0. ,  0. ,  0. , 11. ,  0. ],\n",
       "        [ 0. ,  0. ,  0. ,  0. , 12.5],\n",
       "        [ 0. ,  0. ,  0. ,  0. ,  0. ],\n",
       "        [ 0. ,  0. ,  0. ,  0. ,  0. ]]])"
      ]
     },
     "metadata": {},
     "execution_count": 9
    }
   ],
   "source": [
    "g.transactions_history"
   ]
  },
  {
   "cell_type": "code",
   "execution_count": 7,
   "metadata": {},
   "outputs": [
    {
     "output_type": "display_data",
     "data": {
      "text/plain": "           Q1   Q2   Q3\nPlayer 0 -1.8 -3.8  0.0\nPlayer 1  0.0  3.8  0.8\nPlayer 2  1.8 -3.8 -0.8\nPlayer 3  1.8  0.0 -0.8\nPlayer 4 -1.8  3.8  0.8",
      "text/html": "<div>\n<style scoped>\n    .dataframe tbody tr th:only-of-type {\n        vertical-align: middle;\n    }\n\n    .dataframe tbody tr th {\n        vertical-align: top;\n    }\n\n    .dataframe thead th {\n        text-align: right;\n    }\n</style>\n<table border=\"1\" class=\"dataframe\">\n  <thead>\n    <tr style=\"text-align: right;\">\n      <th></th>\n      <th>Q1</th>\n      <th>Q2</th>\n      <th>Q3</th>\n    </tr>\n  </thead>\n  <tbody>\n    <tr>\n      <th>Player 0</th>\n      <td>-1.8</td>\n      <td>-3.8</td>\n      <td>0.0</td>\n    </tr>\n    <tr>\n      <th>Player 1</th>\n      <td>0.0</td>\n      <td>3.8</td>\n      <td>0.8</td>\n    </tr>\n    <tr>\n      <th>Player 2</th>\n      <td>1.8</td>\n      <td>-3.8</td>\n      <td>-0.8</td>\n    </tr>\n    <tr>\n      <th>Player 3</th>\n      <td>1.8</td>\n      <td>0.0</td>\n      <td>-0.8</td>\n    </tr>\n    <tr>\n      <th>Player 4</th>\n      <td>-1.8</td>\n      <td>3.8</td>\n      <td>0.8</td>\n    </tr>\n  </tbody>\n</table>\n</div>"
     },
     "metadata": {}
    }
   ],
   "source": [
    "print_players_and_questions(g.unrealized_pnls)"
   ]
  }
 ]
}